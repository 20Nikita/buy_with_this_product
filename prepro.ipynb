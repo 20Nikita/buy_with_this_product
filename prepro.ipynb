{
 "cells": [
  {
   "cell_type": "code",
   "execution_count": 2,
   "metadata": {},
   "outputs": [],
   "source": [
    "import pandas as pd\n",
    "import os\n",
    "import numpy as np\n",
    "from ast import literal_eval"
   ]
  },
  {
   "cell_type": "markdown",
   "metadata": {},
   "source": [
    "## Подготовка данных"
   ]
  },
  {
   "cell_type": "code",
   "execution_count": 4,
   "metadata": {},
   "outputs": [],
   "source": [
    "root_data_dir = 'data'\n",
    "magaz = 'data_se'\n",
    "data = pd.read_csv(os.path.join(root_data_dir, magaz, 'orders_se_test.txt'),index_col=0 )\n",
    "products = pd.read_csv(os.path.join(root_data_dir, magaz, 'products_se.txt'),index_col=0)\n",
    "t = data['product_id']\n",
    "data['name'] = t.replace(products['product_id'].values, products['name'].values)\n",
    "data.to_csv('data/data_se/data_name_test.txt', index=False, columns=['order_id', 'name'])\n",
    "\n",
    "data = pd.read_csv(os.path.join(root_data_dir, magaz, 'orders_se_train.txt'),index_col=0 )\n",
    "products = pd.read_csv(os.path.join(root_data_dir, magaz, 'products_se.txt'),index_col=0)\n",
    "t = data['product_id']\n",
    "data['name'] = t.replace(products['product_id'].values, products['name'].values)\n",
    "data.to_csv('data/data_se/data_name_train.txt', index=False, columns=['order_id', 'name'])"
   ]
  },
  {
   "cell_type": "code",
   "execution_count": 122,
   "metadata": {},
   "outputs": [],
   "source": [
    "data_test = pd.read_csv(os.path.join(root_data_dir, magaz, 'data_name_test.txt'))\n",
    "data_train = pd.read_csv(os.path.join(root_data_dir, magaz, 'data_name_train.txt'))\n",
    "data =  pd.concat([data_test, data_train]).sort_values(by=\"order_id\")\n",
    "mas_indexet = data['name'].drop_duplicates().values\n",
    "f = open('data/data_se/mas_indexet.txt', 'w', encoding='utf-8')\n",
    "for i in mas_indexet:\n",
    "    f.write(i + \"\\n\")\n",
    "f = open('data/data_se/data_i_test.txt', 'w')\n",
    "f.write('order_id,name_id\\n')\n",
    "for d in data_test.values:\n",
    "    f.write(f'{d[0]},{np.where(mas_indexet == d[1])[0][0]}\\n')\n",
    "f.close()\n",
    "f = open('data/data_se/data_i_train.txt', 'w')\n",
    "f.write('order_id,name_id\\n')\n",
    "for d in data_train.values:\n",
    "    f.write(f'{d[0]},{np.where(mas_indexet == d[1])[0][0]}\\n')\n",
    "f.close()"
   ]
  },
  {
   "cell_type": "code",
   "execution_count": 146,
   "metadata": {},
   "outputs": [],
   "source": [
    "data = pd.read_csv(os.path.join(root_data_dir, magaz, 'data_i_test.txt'))\n",
    "corzins_test = data.groupby('order_id')['name_id'].apply(list).reset_index()\n",
    "\n",
    "\n",
    "data = pd.read_csv(os.path.join(root_data_dir, magaz, 'data_i_train.txt'))\n",
    "max_i = data.name_id.max() + 1\n",
    "corzins_train = data.groupby('order_id')['name_id'].apply(list).reset_index()\n",
    "\n",
    "corzins = pd.concat([corzins_test, corzins_train]).sort_values(by=['order_id'])\n"
   ]
  },
  {
   "cell_type": "code",
   "execution_count": 147,
   "metadata": {},
   "outputs": [],
   "source": [
    "stat = np.zeros(max_i)\n",
    "for a in corzins['name_id'].values:\n",
    "    for i in a:\n",
    "        stat[i]+=1\n",
    "sort_stat = stat.copy()\n",
    "sort_stat.sort()\n",
    "\n",
    "f1 = stat > 50\n",
    "f2 = stat < sort_stat[-21]\n",
    "f = f1*f2"
   ]
  },
  {
   "cell_type": "code",
   "execution_count": 158,
   "metadata": {},
   "outputs": [
    {
     "name": "stdout",
     "output_type": "stream",
     "text": [
      "228663\n"
     ]
    }
   ],
   "source": [
    "ind = []\n",
    "rezalt = open('data.txt', 'w')\n",
    "rezalt.write('order_id,name_id\\n')\n",
    "for i, d in enumerate(corzins.values):\n",
    "    t = []\n",
    "    for j in d[1]:\n",
    "        if f[j]:\n",
    "            t.append(j)\n",
    "    t = list(set(t))\n",
    "    if len(t) > 1:\n",
    "        for i in t:\n",
    "            rezalt.write(f'{d[0]},{i}\\n')\n",
    "rezalt.close()\n",
    "len_d = len(open('data.txt').readlines())\n",
    "data = pd.read_csv( 'data.txt')\n",
    "max_i = data.name_id.max() + 1\n",
    "corzins = data.groupby('order_id')['name_id'].apply(list).reset_index()\n",
    "\n",
    "stat = np.zeros(max_i)\n",
    "for a in corzins['name_id'].values:\n",
    "    for i in a:\n",
    "        stat[i]+=1\n",
    "sort_stat = stat.copy()\n",
    "sort_stat.sort()\n",
    "\n",
    "f = stat > 50\n",
    "print(len_d)\n"
   ]
  },
  {
   "cell_type": "code",
   "execution_count": 159,
   "metadata": {},
   "outputs": [],
   "source": [
    "data = pd.read_csv('data.txt')\n",
    "mas_indexet = data['name_id'].drop_duplicates().values\n",
    "np.savetxt('data/data_se/i2.txt', mas_indexet.astype(int),  fmt = '%s')\n",
    "f = open('data/data_se/data_i2.txt', 'w')\n",
    "f.write('order_id,name_id\\n')\n",
    "for d in data.values:\n",
    "    f.write(f'{d[0]},{np.where(mas_indexet == d[1])[0][0]}\\n')\n",
    "f.close()"
   ]
  },
  {
   "cell_type": "code",
   "execution_count": 160,
   "metadata": {},
   "outputs": [],
   "source": [
    "data = pd.read_csv(os.path.join(root_data_dir, magaz, 'data_i2.txt'))\n",
    "i_test = pd.read_csv(os.path.join(root_data_dir, magaz, 'data_test.txt'))['order_id'].values\n",
    "i_train = pd.read_csv(os.path.join(root_data_dir, magaz, 'data_train.txt'))['order_id'].values\n",
    "i_data = data['order_id'].values\n",
    "\n",
    "id = np.intersect1d(i_data, i_test)\n",
    "rezalt = open('data/data_se/data_i2_test.txt', 'w', encoding='utf-8')\n",
    "rezalt.write('order_id,name_id\\n')\n",
    "for d in data.values:\n",
    "    if d[0] in id:\n",
    "        rezalt.write(f'{d[0]},{d[1]}\\n')\n",
    "rezalt.close()\n",
    "\n",
    "id = np.intersect1d(i_data, i_train)\n",
    "rezalt = open('data/data_se/data_i2_train.txt', 'w', encoding='utf-8')\n",
    "rezalt.write('order_id,name_id\\n')\n",
    "for d in data.values:\n",
    "    if d[0] in id:\n",
    "        rezalt.write(f'{d[0]},{d[1]}\\n')\n",
    "rezalt.close()"
   ]
  },
  {
   "cell_type": "code",
   "execution_count": 165,
   "metadata": {},
   "outputs": [],
   "source": [
    "data = pd.read_csv(os.path.join(root_data_dir, magaz, 'data_i2_test.txt'))\n",
    "corzins_test = data.groupby('order_id')['name_id'].apply(list).reset_index()\n",
    "corzins_test .to_csv('data/data_se/data_test.txt', index=False, columns=['order_id', 'name_id'])\n",
    "\n",
    "data = pd.read_csv(os.path.join(root_data_dir, magaz, 'data_i2_train.txt'))\n",
    "corzins_train = data.groupby('order_id')['name_id'].apply(list).reset_index()\n",
    "corzins_train.to_csv('data/data_se/data_train.txt', index=False, columns=['order_id', 'name_id'])\n",
    "\n",
    "data = pd.read_csv(os.path.join(root_data_dir, magaz, 'data_i2.txt'))\n",
    "corzins = data.groupby('order_id')['name_id'].apply(list).reset_index()\n",
    "corzins.to_csv('data/data_se/data.txt', index=False, columns=['order_id', 'name_id'])\n"
   ]
  }
 ],
 "metadata": {
  "kernelspec": {
   "display_name": "Python 3",
   "language": "python",
   "name": "python3"
  },
  "language_info": {
   "codemirror_mode": {
    "name": "ipython",
    "version": 3
   },
   "file_extension": ".py",
   "mimetype": "text/x-python",
   "name": "python",
   "nbconvert_exporter": "python",
   "pygments_lexer": "ipython3",
   "version": "3.11.6"
  }
 },
 "nbformat": 4,
 "nbformat_minor": 2
}
