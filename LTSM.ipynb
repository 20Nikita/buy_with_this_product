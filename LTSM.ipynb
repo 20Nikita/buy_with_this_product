{
 "cells": [
  {
   "cell_type": "code",
   "execution_count": 1,
   "metadata": {},
   "outputs": [
    {
     "name": "stderr",
     "output_type": "stream",
     "text": [
      "/usr/local/lib/python3.8/dist-packages/tqdm/auto.py:21: TqdmWarning: IProgress not found. Please update jupyter and ipywidgets. See https://ipywidgets.readthedocs.io/en/stable/user_install.html\n",
      "  from .autonotebook import tqdm as notebook_tqdm\n"
     ]
    }
   ],
   "source": [
    "import torch.nn as nn\n",
    "import torch.optim as optim\n",
    "import torch\n",
    "import numpy as np\n",
    "from torch.utils.data import Dataset, DataLoader\n",
    "import pandas as pd\n",
    "from ast import literal_eval\n",
    "import os\n",
    "os.environ[\"CUDA_VISIBLE_DEVICES\"] = \"9\""
   ]
  },
  {
   "cell_type": "code",
   "execution_count": null,
   "metadata": {},
   "outputs": [],
   "source": [
    "num_workers=1\n",
    "batch_size=1000\n",
    "lr=0.01\n",
    "num_epoch=200"
   ]
  },
  {
   "cell_type": "code",
   "execution_count": 2,
   "metadata": {},
   "outputs": [],
   "source": [
    "num_level=1\n",
    "depth_batch=1\n",
    "hide_neuron=32\n",
    "\n",
    "annotation_train = 'data/data_se/data_train.txt'\n",
    "annotation_val = 'data/data_se/data_test.txt'\n",
    "var_size=1370+1\n",
    "device = torch.device(\"cuda:0\" if torch.cuda.is_available() else \"cpu\")"
   ]
  },
  {
   "cell_type": "code",
   "execution_count": 3,
   "metadata": {},
   "outputs": [],
   "source": [
    "class MyDataset(Dataset):\n",
    "    def __init__(self, annotation):\n",
    "        self.landmarks_frame = pd.read_csv(annotation)\n",
    "    def __len__(self):\n",
    "        return len(self.landmarks_frame)\n",
    "    \n",
    "    def __getitem__(self, idx):\n",
    "        if torch.is_tensor(idx):\n",
    "            idx = idx.tolist()\n",
    "        i_data = literal_eval(self.landmarks_frame.iloc[idx, 1])\n",
    "\n",
    "        return i_data\n",
    "train_dataset = MyDataset(annotation_train)\n",
    "val_dataset = MyDataset(annotation_val)"
   ]
  },
  {
   "cell_type": "code",
   "execution_count": 4,
   "metadata": {},
   "outputs": [],
   "source": [
    "def pad_length(b):\n",
    "    # build vectorized sequence\n",
    "    v = b\n",
    "    # compute max length of a sequence in this minibatch and length sequence itself\n",
    "    len_seq = list(map(len,v))\n",
    "    l = max(len_seq)\n",
    "    return ( # tuple of three tensors - labels, padded features, length sequence\n",
    "        torch.stack([torch.nn.functional.pad(torch.tensor(t),(0,l-len(t)),mode='constant',value=var_size-1) for t in v]),\n",
    "    )"
   ]
  },
  {
   "cell_type": "code",
   "execution_count": 5,
   "metadata": {},
   "outputs": [],
   "source": [
    "train_dataloader = DataLoader(train_dataset, batch_size=batch_size, num_workers=num_workers, pin_memory=True, drop_last=True, shuffle=True,collate_fn=pad_length)\n",
    "val_dataloader = DataLoader(val_dataset, batch_size=batch_size, num_workers=num_workers, pin_memory=True, drop_last=True, shuffle=False,collate_fn=pad_length)"
   ]
  },
  {
   "cell_type": "code",
   "execution_count": 6,
   "metadata": {},
   "outputs": [],
   "source": [
    "class MyLSTM(nn.Module):\n",
    "    def __init__(self, output_size, hidden_size, n_layers=1):\n",
    "        super(MyLSTM, self).__init__()\n",
    "        self.output_size = output_size\n",
    "        self.hidden_size = hidden_size\n",
    "        self.n_layers = n_layers\n",
    "        self.LSTM = nn.LSTM(self.output_size, self.hidden_size, self.n_layers)\n",
    "        self.dropout = nn.Dropout(0.2)\n",
    "        self.fc = nn.Linear(self.hidden_size, self.output_size)\n",
    "    def forward(self,x,hidden):\n",
    "        out, (h, c)  = self.LSTM(x,hidden)\n",
    "        out = self.dropout(out)\n",
    "        x = self.fc(out)\n",
    "        x = self.fc(out)\n",
    "        return x, (h, c)"
   ]
  },
  {
   "cell_type": "code",
   "execution_count": 7,
   "metadata": {},
   "outputs": [],
   "source": [
    "net=MyLSTM(var_size,hide_neuron,num_level)\n",
    "net=net.to(device)\n",
    "Loss = nn.CrossEntropyLoss(ignore_index=var_size-1)\n",
    "optimizer = optim.AdamW(net.parameters(), lr=lr)\n",
    "scheduler = optim.lr_scheduler.ReduceLROnPlateau(optimizer, 'min',factor=0.5,patience=5)"
   ]
  },
  {
   "cell_type": "code",
   "execution_count": 8,
   "metadata": {},
   "outputs": [],
   "source": [
    "def micro_batch(input,index=0,input_size=1,var_size=1):\n",
    "    sting=input[:,index:index+input_size]#.type(torch.int32)\n",
    "    label_ind=input[:,index+1:index+input_size+1]#.type(torch.int32)\n",
    "    size=np.array([sting.shape[0]*sting.shape[1],var_size])\n",
    "    batch=np.zeros(size)\n",
    "    for i in range(sting.shape[0]):\n",
    "        for j in range(sting.shape[1]):\n",
    "            a=sting[i][j]\n",
    "            batch[i+j][a]+=1.0\n",
    "    label=torch.Tensor(label_ind).reshape(-1)\n",
    "    batch=torch.Tensor(batch)\n",
    "    return batch, label\n",
    "    "
   ]
  },
  {
   "cell_type": "code",
   "execution_count": 38,
   "metadata": {},
   "outputs": [],
   "source": [
    "num_epoch=80\n",
    "batch_size=10"
   ]
  },
  {
   "cell_type": "code",
   "execution_count": 40,
   "metadata": {},
   "outputs": [
    {
     "name": "stdout",
     "output_type": "stream",
     "text": [
      "0 T 19.771 V 20.834 0.001\n",
      "1 T 19.881 V 20.831 0.001\n",
      "2 T 19.988 V 20.829 0.001\n",
      "3 T 19.445 V 20.886 0.001\n",
      "4 T 19.348 V 20.736 0.001\n",
      "5 T 19.659 V 20.766 0.001\n",
      "6 T 19.285 V 20.705 0.001\n",
      "7 T 19.284 V 20.784 0.001\n",
      "8 T 19.431 V 20.726 0.001\n",
      "9 T 19.391 V 20.697 0.001\n",
      "10 T 19.393 V 20.695 0.001\n",
      "11 T 19.410 V 20.640 0.001\n",
      "12 T 19.182 V 20.647 0.001\n",
      "13 T 19.223 V 20.651 0.001\n",
      "14 T 19.359 V 20.578 0.001\n",
      "15 T 19.109 V 20.574 0.001\n",
      "16 T 19.096 V 20.501 0.001\n",
      "17 T 19.113 V 20.676 0.001\n",
      "18 T 18.915 V 20.613 0.001\n",
      "19 T 18.936 V 20.568 0.001\n",
      "20 T 18.685 V 20.595 0.001\n",
      "21 T 18.943 V 20.547 0.001\n",
      "22 T 18.871 V 20.544 0.0005\n",
      "23 T 19.037 V 20.527 0.0005\n",
      "24 T 18.821 V 20.458 0.0005\n",
      "25 T 18.492 V 20.541 0.0005\n",
      "26 T 18.996 V 20.507 0.0005\n",
      "27 T 18.834 V 20.558 0.0005\n",
      "28 T 18.575 V 20.523 0.0005\n",
      "29 T 18.629 V 20.485 0.0005\n",
      "30 T 18.837 V 20.511 0.00025\n",
      "31 T 18.666 V 20.496 0.00025\n",
      "32 T 18.629 V 20.491 0.00025\n",
      "33 T 18.626 V 20.473 0.00025\n",
      "34 T 18.437 V 20.498 0.00025\n",
      "35 T 18.456 V 20.474 0.00025\n",
      "36 T 18.665 V 20.476 0.000125\n",
      "37 T 18.550 V 20.482 0.000125\n",
      "38 T 18.455 V 20.464 0.000125\n",
      "39 T 18.794 V 20.488 0.000125\n",
      "40 T 18.668 V 20.490 0.000125\n",
      "41 T 18.835 V 20.494 0.000125\n",
      "42 T 18.489 V 20.500 6.25e-05\n",
      "43 T 18.697 V 20.486 6.25e-05\n",
      "44 T 18.421 V 20.486 6.25e-05\n",
      "45 T 18.657 V 20.479 6.25e-05\n",
      "46 T 18.746 V 20.476 6.25e-05\n",
      "47 T 18.523 V 20.493 6.25e-05\n",
      "48 T 18.743 V 20.470 3.125e-05\n",
      "49 T 18.457 V 20.475 3.125e-05\n",
      "50 T 18.578 V 20.469 3.125e-05\n",
      "51 T 18.646 V 20.464 3.125e-05\n",
      "52 T 18.321 V 20.461 3.125e-05\n"
     ]
    },
    {
     "ename": "KeyboardInterrupt",
     "evalue": "",
     "output_type": "error",
     "traceback": [
      "\u001b[0;31m---------------------------------------------------------------------------\u001b[0m",
      "\u001b[0;31mKeyboardInterrupt\u001b[0m                         Traceback (most recent call last)",
      "\u001b[1;32m/workspace/prj/study/buy_with_this_product/LTSM.ipynb Ячейка 11\u001b[0m line \u001b[0;36m1\n\u001b[1;32m     <a href='vscode-notebook-cell://ssh-remote%2B11z.conten2/workspace/prj/study/buy_with_this_product/LTSM.ipynb#X11sdnNjb2RlLXJlbW90ZQ%3D%3D?line=12'>13</a>\u001b[0m \u001b[39mfor\u001b[39;00m i \u001b[39min\u001b[39;00m \u001b[39mrange\u001b[39m(data\u001b[39m.\u001b[39mshape[\u001b[39m1\u001b[39m]\u001b[39m-\u001b[39mdepth_batch):\n\u001b[1;32m     <a href='vscode-notebook-cell://ssh-remote%2B11z.conten2/workspace/prj/study/buy_with_this_product/LTSM.ipynb#X11sdnNjb2RlLXJlbW90ZQ%3D%3D?line=13'>14</a>\u001b[0m     input_batch, target\u001b[39m=\u001b[39mmicro_batch(data,i,depth_batch,var_size)\n\u001b[0;32m---> <a href='vscode-notebook-cell://ssh-remote%2B11z.conten2/workspace/prj/study/buy_with_this_product/LTSM.ipynb#X11sdnNjb2RlLXJlbW90ZQ%3D%3D?line=14'>15</a>\u001b[0m     output, (h0, c0) \u001b[39m=\u001b[39m net(input_batch\u001b[39m.\u001b[39;49mto(device), (h0, c0))\n\u001b[1;32m     <a href='vscode-notebook-cell://ssh-remote%2B11z.conten2/workspace/prj/study/buy_with_this_product/LTSM.ipynb#X11sdnNjb2RlLXJlbW90ZQ%3D%3D?line=15'>16</a>\u001b[0m     target \u001b[39m=\u001b[39m target\u001b[39m.\u001b[39mlong()\u001b[39m.\u001b[39mto(device)\n\u001b[1;32m     <a href='vscode-notebook-cell://ssh-remote%2B11z.conten2/workspace/prj/study/buy_with_this_product/LTSM.ipynb#X11sdnNjb2RlLXJlbW90ZQ%3D%3D?line=16'>17</a>\u001b[0m     loss\u001b[39m=\u001b[39mLoss(output,target)\n",
      "File \u001b[0;32m/usr/local/lib/python3.8/dist-packages/torch/nn/modules/module.py:1194\u001b[0m, in \u001b[0;36mModule._call_impl\u001b[0;34m(self, *input, **kwargs)\u001b[0m\n\u001b[1;32m   1190\u001b[0m \u001b[39m# If we don't have any hooks, we want to skip the rest of the logic in\u001b[39;00m\n\u001b[1;32m   1191\u001b[0m \u001b[39m# this function, and just call forward.\u001b[39;00m\n\u001b[1;32m   1192\u001b[0m \u001b[39mif\u001b[39;00m \u001b[39mnot\u001b[39;00m (\u001b[39mself\u001b[39m\u001b[39m.\u001b[39m_backward_hooks \u001b[39mor\u001b[39;00m \u001b[39mself\u001b[39m\u001b[39m.\u001b[39m_forward_hooks \u001b[39mor\u001b[39;00m \u001b[39mself\u001b[39m\u001b[39m.\u001b[39m_forward_pre_hooks \u001b[39mor\u001b[39;00m _global_backward_hooks\n\u001b[1;32m   1193\u001b[0m         \u001b[39mor\u001b[39;00m _global_forward_hooks \u001b[39mor\u001b[39;00m _global_forward_pre_hooks):\n\u001b[0;32m-> 1194\u001b[0m     \u001b[39mreturn\u001b[39;00m forward_call(\u001b[39m*\u001b[39;49m\u001b[39minput\u001b[39;49m, \u001b[39m*\u001b[39;49m\u001b[39m*\u001b[39;49mkwargs)\n\u001b[1;32m   1195\u001b[0m \u001b[39m# Do not call functions when jit is used\u001b[39;00m\n\u001b[1;32m   1196\u001b[0m full_backward_hooks, non_full_backward_hooks \u001b[39m=\u001b[39m [], []\n",
      "\u001b[1;32m/workspace/prj/study/buy_with_this_product/LTSM.ipynb Ячейка 11\u001b[0m line \u001b[0;36m1\n\u001b[1;32m     <a href='vscode-notebook-cell://ssh-remote%2B11z.conten2/workspace/prj/study/buy_with_this_product/LTSM.ipynb#X11sdnNjb2RlLXJlbW90ZQ%3D%3D?line=9'>10</a>\u001b[0m \u001b[39mdef\u001b[39;00m \u001b[39mforward\u001b[39m(\u001b[39mself\u001b[39m,x,hidden):\n\u001b[0;32m---> <a href='vscode-notebook-cell://ssh-remote%2B11z.conten2/workspace/prj/study/buy_with_this_product/LTSM.ipynb#X11sdnNjb2RlLXJlbW90ZQ%3D%3D?line=10'>11</a>\u001b[0m     out, (h, c)  \u001b[39m=\u001b[39m \u001b[39mself\u001b[39;49m\u001b[39m.\u001b[39;49mLSTM(x,hidden)\n\u001b[1;32m     <a href='vscode-notebook-cell://ssh-remote%2B11z.conten2/workspace/prj/study/buy_with_this_product/LTSM.ipynb#X11sdnNjb2RlLXJlbW90ZQ%3D%3D?line=11'>12</a>\u001b[0m     out \u001b[39m=\u001b[39m \u001b[39mself\u001b[39m\u001b[39m.\u001b[39mdropout(out)\n\u001b[1;32m     <a href='vscode-notebook-cell://ssh-remote%2B11z.conten2/workspace/prj/study/buy_with_this_product/LTSM.ipynb#X11sdnNjb2RlLXJlbW90ZQ%3D%3D?line=12'>13</a>\u001b[0m     x \u001b[39m=\u001b[39m \u001b[39mself\u001b[39m\u001b[39m.\u001b[39mfc(out)\n",
      "File \u001b[0;32m/usr/local/lib/python3.8/dist-packages/torch/nn/modules/module.py:1194\u001b[0m, in \u001b[0;36mModule._call_impl\u001b[0;34m(self, *input, **kwargs)\u001b[0m\n\u001b[1;32m   1190\u001b[0m \u001b[39m# If we don't have any hooks, we want to skip the rest of the logic in\u001b[39;00m\n\u001b[1;32m   1191\u001b[0m \u001b[39m# this function, and just call forward.\u001b[39;00m\n\u001b[1;32m   1192\u001b[0m \u001b[39mif\u001b[39;00m \u001b[39mnot\u001b[39;00m (\u001b[39mself\u001b[39m\u001b[39m.\u001b[39m_backward_hooks \u001b[39mor\u001b[39;00m \u001b[39mself\u001b[39m\u001b[39m.\u001b[39m_forward_hooks \u001b[39mor\u001b[39;00m \u001b[39mself\u001b[39m\u001b[39m.\u001b[39m_forward_pre_hooks \u001b[39mor\u001b[39;00m _global_backward_hooks\n\u001b[1;32m   1193\u001b[0m         \u001b[39mor\u001b[39;00m _global_forward_hooks \u001b[39mor\u001b[39;00m _global_forward_pre_hooks):\n\u001b[0;32m-> 1194\u001b[0m     \u001b[39mreturn\u001b[39;00m forward_call(\u001b[39m*\u001b[39;49m\u001b[39minput\u001b[39;49m, \u001b[39m*\u001b[39;49m\u001b[39m*\u001b[39;49mkwargs)\n\u001b[1;32m   1195\u001b[0m \u001b[39m# Do not call functions when jit is used\u001b[39;00m\n\u001b[1;32m   1196\u001b[0m full_backward_hooks, non_full_backward_hooks \u001b[39m=\u001b[39m [], []\n",
      "File \u001b[0;32m/usr/local/lib/python3.8/dist-packages/torch/nn/modules/rnn.py:774\u001b[0m, in \u001b[0;36mLSTM.forward\u001b[0;34m(self, input, hx)\u001b[0m\n\u001b[1;32m    772\u001b[0m \u001b[39mself\u001b[39m\u001b[39m.\u001b[39mcheck_forward_args(\u001b[39minput\u001b[39m, hx, batch_sizes)\n\u001b[1;32m    773\u001b[0m \u001b[39mif\u001b[39;00m batch_sizes \u001b[39mis\u001b[39;00m \u001b[39mNone\u001b[39;00m:\n\u001b[0;32m--> 774\u001b[0m     result \u001b[39m=\u001b[39m _VF\u001b[39m.\u001b[39;49mlstm(\u001b[39minput\u001b[39;49m, hx, \u001b[39mself\u001b[39;49m\u001b[39m.\u001b[39;49m_flat_weights, \u001b[39mself\u001b[39;49m\u001b[39m.\u001b[39;49mbias, \u001b[39mself\u001b[39;49m\u001b[39m.\u001b[39;49mnum_layers,\n\u001b[1;32m    775\u001b[0m                       \u001b[39mself\u001b[39;49m\u001b[39m.\u001b[39;49mdropout, \u001b[39mself\u001b[39;49m\u001b[39m.\u001b[39;49mtraining, \u001b[39mself\u001b[39;49m\u001b[39m.\u001b[39;49mbidirectional, \u001b[39mself\u001b[39;49m\u001b[39m.\u001b[39;49mbatch_first)\n\u001b[1;32m    776\u001b[0m \u001b[39melse\u001b[39;00m:\n\u001b[1;32m    777\u001b[0m     result \u001b[39m=\u001b[39m _VF\u001b[39m.\u001b[39mlstm(\u001b[39minput\u001b[39m, batch_sizes, hx, \u001b[39mself\u001b[39m\u001b[39m.\u001b[39m_flat_weights, \u001b[39mself\u001b[39m\u001b[39m.\u001b[39mbias,\n\u001b[1;32m    778\u001b[0m                       \u001b[39mself\u001b[39m\u001b[39m.\u001b[39mnum_layers, \u001b[39mself\u001b[39m\u001b[39m.\u001b[39mdropout, \u001b[39mself\u001b[39m\u001b[39m.\u001b[39mtraining, \u001b[39mself\u001b[39m\u001b[39m.\u001b[39mbidirectional)\n",
      "\u001b[0;31mKeyboardInterrupt\u001b[0m: "
     ]
    }
   ],
   "source": [
    "best_Loss_regression=np.inf\n",
    "for iter in range(num_epoch):\n",
    "    for dataloader, phase in zip([train_dataloader, val_dataloader], [\"T\", \"V\"]):\n",
    "        eposh_loss=0\n",
    "        if phase == \"T\": net.train()\n",
    "        if phase == \"V\": net.eval()\n",
    "        for [data] in dataloader:\n",
    "            optimizer.zero_grad()\n",
    "            with torch.set_grad_enabled(phase == \"T\"):\n",
    "                total_loss = torch.tensor([0.0], requires_grad=phase == \"T\").to(device)\n",
    "                h0 = torch.randn(num_level,  hide_neuron).to(device)\n",
    "                c0 = torch.randn(num_level, hide_neuron).to(device)\n",
    "                for i in range(data.shape[1]-depth_batch):\n",
    "                    input_batch, target=micro_batch(data,i,depth_batch,var_size)\n",
    "                    output, (h0, c0) = net(input_batch.to(device), (h0, c0))\n",
    "                    target = target.long().to(device)\n",
    "                    loss=Loss(output,target)\n",
    "                    total_loss=total_loss+loss\n",
    "                if phase == 'T':\n",
    "                    # Вычислить градиенты\n",
    "                    total_loss.backward()\n",
    "                    # Обновить веса\n",
    "                    optimizer.step()\n",
    "                eposh_loss+=total_loss.item()\n",
    "        if phase == \"T\": \n",
    "            print(f\"{iter} {phase} {eposh_loss / len(dataloader):0.3f}\", end=\" \")\n",
    "        else:\n",
    "            scheduler.step(eposh_loss)\n",
    "            print(f\"{phase} {eposh_loss / len(dataloader):0.3f} {optimizer.param_groups[0]['lr']}\")\n",
    "            if eposh_loss < best_Loss_regression:\n",
    "                best_model_wts = net.state_dict()\n",
    "                best_model_ind = iter\n",
    "                best_Loss_regression = eposh_loss\n",
    "net.load_state_dict(best_model_wts)\n",
    "torch.save(best_model_wts, 'model_lstm.tar')\n",
    "print(best_model_ind, best_Loss_regression / len(val_dataloader))"
   ]
  },
  {
   "cell_type": "code",
   "execution_count": 41,
   "metadata": {},
   "outputs": [
    {
     "data": {
      "text/plain": [
       "<All keys matched successfully>"
      ]
     },
     "execution_count": 41,
     "metadata": {},
     "output_type": "execute_result"
    }
   ],
   "source": [
    "net.load_state_dict(best_model_wts)"
   ]
  },
  {
   "cell_type": "code",
   "execution_count": 42,
   "metadata": {},
   "outputs": [
    {
     "name": "stdout",
     "output_type": "stream",
     "text": [
      "Acc top 1 tensor(0.1648, device='cuda:0')\n",
      "Acc top 3 0.3408691484262662\n",
      "Acc top 5 0.43577248761783033\n",
      "Acc top 10 0.5750918677104969\n",
      "Acc top 50 0.8136283751397987\n",
      "Acc top 500 0.9627736060073494\n"
     ]
    }
   ],
   "source": [
    "n = 0\n",
    "trye = 0\n",
    "trye_3 = 0\n",
    "trye_5 = 0\n",
    "trye_10 = 0\n",
    "trye_50 = 0\n",
    "trye_500 = 0\n",
    "data_test = pd.read_csv(annotation_val)\n",
    "net.eval()\n",
    "for d in data_test['name_id'].values:\n",
    "    mas = literal_eval(d)\n",
    "    h0 = torch.randn(num_level,  hide_neuron).to(device)\n",
    "    c0 = torch.randn(num_level, hide_neuron).to(device)\n",
    "    label=mas[-1]\n",
    "    input_v=mas[:-1]\n",
    "    \n",
    "    for i, m in enumerate(input_v):\n",
    "        buf = np.zeros((var_size),dtype = np.float32)\n",
    "        buf[m] +=1\n",
    "        inpyt = torch.tensor([buf]).to(device)\n",
    "        with torch.set_grad_enabled(False):\n",
    "            out, (h0, c0) = net(inpyt, (h0, c0))\n",
    "    trye += label == out.argmax()\n",
    "    trye_3 += label in out.argsort(descending=True)[0][:3]\n",
    "    trye_5 += label in out.argsort(descending=True)[0][:5]\n",
    "    trye_10 += label in out.argsort(descending=True)[0][:10]\n",
    "    trye_50 += label in out.argsort(descending=True)[0][:50]\n",
    "    trye_500 += label in out.argsort(descending=True)[0][:500]\n",
    "    n+=1\n",
    "print('Acc top 1', trye / n)\n",
    "print('Acc top 3',trye_3 / n)\n",
    "print('Acc top 5',trye_5 / n)\n",
    "print('Acc top 10',trye_10 / n)\n",
    "print('Acc top 50',trye_50 / n)\n",
    "print('Acc top 500',trye_500 / n)"
   ]
  },
  {
   "cell_type": "code",
   "execution_count": 43,
   "metadata": {},
   "outputs": [
    {
     "name": "stdout",
     "output_type": "stream",
     "text": [
      "Acc top 1 tensor(0.0842, device='cuda:0')\n",
      "Acc top 3 0.1876910724762993\n",
      "Acc top 5 0.26183491338047743\n",
      "Acc top 10 0.39727634870147915\n",
      "Acc top 50 0.711607942438934\n",
      "Acc top 500 0.9227063582744033\n"
     ]
    }
   ],
   "source": [
    "n = 0\n",
    "trye = 0\n",
    "trye_3 = 0\n",
    "trye_5 = 0\n",
    "trye_10 = 0\n",
    "trye_50 = 0\n",
    "trye_500 = 0\n",
    "end=0\n",
    "data_test = pd.read_csv(annotation_val)\n",
    "net.eval()\n",
    "for d in data_test['name_id'].values:\n",
    "    mas = literal_eval(d)\n",
    "    for i, m in enumerate(mas):\n",
    "        h0 = torch.randn(num_level,  hide_neuron).to(device)\n",
    "        c0 = torch.randn(num_level, hide_neuron).to(device)\n",
    "        label=m\n",
    "        input_v=mas[:i]+mas[i+1:]\n",
    "        # print(mas,label,input_v)\n",
    "        for r in input_v:\n",
    "            buf = np.zeros((var_size),dtype = np.float32)\n",
    "            buf[r] +=1\n",
    "            inpyt = torch.tensor([buf]).to(device)\n",
    "            with torch.set_grad_enabled(False):\n",
    "                out, (h0, c0) = net(inpyt, (h0, c0))\n",
    "        trye += label == out.argmax()\n",
    "        # print(out.argsort(descending=True)[0][:3],label)\n",
    "        trye_3 += label in out.argsort(descending=True)[0][:3]\n",
    "        trye_5 += label in out.argsort(descending=True)[0][:5]\n",
    "        trye_10 += label in out.argsort(descending=True)[0][:10]\n",
    "        trye_50 += label in out.argsort(descending=True)[0][:50]\n",
    "        trye_500 += label in out.argsort(descending=True)[0][:500]\n",
    "        end += var_size-1 == out.argmax()\n",
    "        n+=1\n",
    "print('Acc top 1', trye / n)\n",
    "print('Acc top 3',trye_3 / n)\n",
    "print('Acc top 5',trye_5 / n)\n",
    "print('Acc top 10',trye_10 / n)\n",
    "print('Acc top 50',trye_50 / n)\n",
    "print('Acc top 500',trye_500 / n)\n",
    "# print('Acc end',end / n)"
   ]
  },
  {
   "cell_type": "code",
   "execution_count": 44,
   "metadata": {},
   "outputs": [],
   "source": [
    "save_name = \"/workspace/prj/study/buy_with_this_product/res_LSTM/\"+ 'LSTM_ACC top1-' + str(round(int(trye),4)) + '.tar'\n",
    "torch.save({\n",
    "            'state_dict': net.state_dict(),\n",
    "            }, save_name)"
   ]
  },
  {
   "cell_type": "code",
   "execution_count": 31,
   "metadata": {},
   "outputs": [
    {
     "data": {
      "text/plain": [
       "tensor([ 717,  428,  429,  ...,  872,  909, 1333], device='cuda:0')"
      ]
     },
     "execution_count": 31,
     "metadata": {},
     "output_type": "execute_result"
    }
   ],
   "source": [
    "out.argsort(descending=True)[0]"
   ]
  }
 ],
 "metadata": {
  "kernelspec": {
   "display_name": "base",
   "language": "python",
   "name": "python3"
  },
  "language_info": {
   "codemirror_mode": {
    "name": "ipython",
    "version": 3
   },
   "file_extension": ".py",
   "mimetype": "text/x-python",
   "name": "python",
   "nbconvert_exporter": "python",
   "pygments_lexer": "ipython3",
   "version": "3.8.10"
  }
 },
 "nbformat": 4,
 "nbformat_minor": 2
}
