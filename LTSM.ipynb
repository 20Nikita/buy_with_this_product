{
 "cells": [
  {
   "cell_type": "code",
   "execution_count": 1,
   "metadata": {},
   "outputs": [
    {
     "name": "stderr",
     "output_type": "stream",
     "text": [
      "/usr/local/lib/python3.8/dist-packages/tqdm/auto.py:21: TqdmWarning: IProgress not found. Please update jupyter and ipywidgets. See https://ipywidgets.readthedocs.io/en/stable/user_install.html\n",
      "  from .autonotebook import tqdm as notebook_tqdm\n"
     ]
    }
   ],
   "source": [
    "import torch.nn as nn\n",
    "import torch.optim as optim\n",
    "import torch\n",
    "import numpy as np\n",
    "from torch.utils.data import Dataset, DataLoader\n",
    "import pandas as pd\n",
    "from ast import literal_eval\n",
    "import os\n",
    "os.environ[\"CUDA_VISIBLE_DEVICES\"] = \"9\""
   ]
  },
  {
   "cell_type": "code",
   "execution_count": 2,
   "metadata": {},
   "outputs": [],
   "source": [
    "num_workers=1\n",
    "batch_size=1000\n",
    "lr=0.01\n",
    "num_epoch=200"
   ]
  },
  {
   "cell_type": "code",
   "execution_count": 3,
   "metadata": {},
   "outputs": [],
   "source": [
    "num_level=1\n",
    "depth_batch=1\n",
    "hide_neuron=32\n",
    "\n",
    "annotation_train = 'data/data_se/data_train.txt'\n",
    "annotation_val = 'data/data_se/data_test.txt'\n",
    "var_size=1370+1\n",
    "device = torch.device(\"cuda:0\" if torch.cuda.is_available() else \"cpu\")"
   ]
  },
  {
   "cell_type": "code",
   "execution_count": 4,
   "metadata": {},
   "outputs": [],
   "source": [
    "class MyDataset(Dataset):\n",
    "    def __init__(self, annotation):\n",
    "        self.landmarks_frame = pd.read_csv(annotation)\n",
    "    def __len__(self):\n",
    "        return len(self.landmarks_frame)\n",
    "    \n",
    "    def __getitem__(self, idx):\n",
    "        if torch.is_tensor(idx):\n",
    "            idx = idx.tolist()\n",
    "        i_data = literal_eval(self.landmarks_frame.iloc[idx, 1])\n",
    "\n",
    "        return i_data\n",
    "train_dataset = MyDataset(annotation_train)\n",
    "val_dataset = MyDataset(annotation_val)"
   ]
  },
  {
   "cell_type": "code",
   "execution_count": 5,
   "metadata": {},
   "outputs": [],
   "source": [
    "def pad_length(b):\n",
    "    # build vectorized sequence\n",
    "    v = b\n",
    "    # compute max length of a sequence in this minibatch and length sequence itself\n",
    "    len_seq = list(map(len,v))\n",
    "    l = max(len_seq)\n",
    "    return ( # tuple of three tensors - labels, padded features, length sequence\n",
    "        torch.stack([torch.nn.functional.pad(torch.tensor(t),(0,l-len(t)),mode='constant',value=var_size-1) for t in v]),\n",
    "    )"
   ]
  },
  {
   "cell_type": "code",
   "execution_count": 6,
   "metadata": {},
   "outputs": [],
   "source": [
    "train_dataloader = DataLoader(train_dataset, batch_size=batch_size, num_workers=num_workers, pin_memory=True, drop_last=True, shuffle=True,collate_fn=pad_length,)\n",
    "val_dataloader = DataLoader(val_dataset, batch_size=batch_size, num_workers=num_workers, pin_memory=True, drop_last=True, shuffle=False,collate_fn=pad_length)"
   ]
  },
  {
   "cell_type": "code",
   "execution_count": 7,
   "metadata": {},
   "outputs": [],
   "source": [
    "class MyLSTM(nn.Module):\n",
    "    def __init__(self, output_size, hidden_size, n_layers=1):\n",
    "        super(MyLSTM, self).__init__()\n",
    "        self.output_size = output_size\n",
    "        self.hidden_size = hidden_size\n",
    "        self.n_layers = n_layers\n",
    "        self.LSTM = nn.LSTM(self.output_size, self.hidden_size, self.n_layers)\n",
    "        self.dropout = nn.Dropout(0.2)\n",
    "        self.fc = nn.Linear(self.hidden_size, self.output_size)\n",
    "    def forward(self,x,hidden):\n",
    "        out, (h, c)  = self.LSTM(x,hidden)\n",
    "        out = self.dropout(out)\n",
    "        x = self.fc(out)\n",
    "        x = self.fc(out)\n",
    "        return x, (h, c)"
   ]
  },
  {
   "cell_type": "code",
   "execution_count": 8,
   "metadata": {},
   "outputs": [],
   "source": [
    "net=MyLSTM(var_size,hide_neuron,num_level)\n",
    "net=net.to(device)\n",
    "Loss = nn.CrossEntropyLoss(ignore_index=var_size-1)\n",
    "optimizer = optim.AdamW(net.parameters(), lr=lr)\n",
    "scheduler = optim.lr_scheduler.ReduceLROnPlateau(optimizer, 'min',factor=0.5,patience=5)"
   ]
  },
  {
   "cell_type": "code",
   "execution_count": 9,
   "metadata": {},
   "outputs": [],
   "source": [
    "def micro_batch(input,index=0,input_size=1,var_size=1):\n",
    "    sting=input[:,index:index+input_size]#.type(torch.int32)\n",
    "    label_ind=input[:,index+1:index+input_size+1]#.type(torch.int32)\n",
    "    size=np.array([sting.shape[0]*sting.shape[1],var_size])\n",
    "    batch=np.zeros(size)\n",
    "    for i in range(sting.shape[0]):\n",
    "        for j in range(sting.shape[1]):\n",
    "            a=sting[i][j]\n",
    "            batch[i+j][a]+=1.0\n",
    "    label=torch.Tensor(label_ind).reshape(-1)\n",
    "    batch=torch.Tensor(batch)\n",
    "    return batch, label\n",
    "    "
   ]
  },
  {
   "cell_type": "code",
   "execution_count": 10,
   "metadata": {},
   "outputs": [],
   "source": [
    "num_epoch=80\n",
    "batch_size=10"
   ]
  },
  {
   "cell_type": "code",
   "execution_count": 11,
   "metadata": {},
   "outputs": [
    {
     "name": "stdout",
     "output_type": "stream",
     "text": [
      "0 T 53.211 V 45.163 0.01\n",
      "1 T 46.720 V 43.034 0.01\n",
      "2 T 44.098 V 38.592 0.01\n",
      "3 T 39.590 V 33.486 0.01\n",
      "4 T 33.577 V 28.798 0.01\n",
      "5 T 29.453 V 25.026 0.01\n",
      "6 T 26.102 V 22.741 0.01\n",
      "7 T 24.434 V 22.020 0.01\n",
      "8 T 22.587 V 21.377 0.01\n",
      "9 T 21.846 V 21.415 0.01\n",
      "10 T 21.399 V 20.874 0.01\n",
      "11 T 20.722 V 20.775 0.01\n",
      "12 T 20.470 V 20.670 0.01\n",
      "13 T 19.966 V 20.556 0.01\n",
      "14 T 19.892 V 20.468 0.01\n",
      "15 T 19.445 V 20.423 0.01\n",
      "16 T 19.014 V 20.189 0.01\n",
      "17 T 19.062 V 20.332 0.01\n",
      "18 T 18.974 V 20.185 0.01\n",
      "19 T 19.085 V 20.425 0.01\n",
      "20 T 18.605 V 20.285 0.01\n",
      "21 T 18.899 V 20.184 0.01\n",
      "22 T 18.595 V 20.604 0.01\n",
      "23 T 18.631 V 20.203 0.01\n",
      "24 T 18.467 V 20.166 0.01\n",
      "25 T 18.497 V 20.264 0.01\n",
      "26 T 18.291 V 20.290 0.01\n",
      "27 T 18.365 V 20.408 0.01\n",
      "28 T 18.052 V 20.308 0.01\n",
      "29 T 18.142 V 20.436 0.01\n",
      "30 T 18.126 V 20.200 0.005\n",
      "31 T 17.492 V 20.198 0.005\n",
      "32 T 17.408 V 20.213 0.005\n",
      "33 T 17.419 V 20.110 0.005\n",
      "34 T 17.337 V 20.254 0.005\n",
      "35 T 17.568 V 20.212 0.005\n",
      "36 T 17.272 V 20.040 0.005\n",
      "37 T 17.554 V 20.020 0.005\n",
      "38 T 17.421 V 20.147 0.005\n",
      "39 T 17.323 V 20.077 0.005\n",
      "40 T 17.539 V 20.264 0.005\n",
      "41 T 17.518 V 20.104 0.005\n",
      "42 T 17.143 V 20.100 0.005\n",
      "43 T 17.577 V 20.198 0.0025\n",
      "44 T 16.990 V 20.011 0.0025\n",
      "45 T 17.260 V 20.022 0.0025\n",
      "46 T 16.995 V 20.000 0.0025\n",
      "47 T 16.933 V 20.085 0.0025\n",
      "48 T 16.881 V 20.069 0.0025\n",
      "49 T 16.842 V 20.141 0.0025\n",
      "50 T 16.692 V 19.975 0.0025\n",
      "51 T 16.582 V 20.227 0.0025\n",
      "52 T 16.904 V 19.973 0.0025\n",
      "53 T 16.998 V 19.965 0.0025\n",
      "54 T 16.615 V 20.188 0.0025\n",
      "55 T 16.888 V 20.095 0.0025\n",
      "56 T 17.072 V 20.063 0.0025\n",
      "57 T 16.639 V 19.925 0.0025\n",
      "58 T 16.836 V 20.275 0.0025\n",
      "59 T 17.022 V 19.981 0.0025\n",
      "60 T 16.523 V 19.985 0.0025\n",
      "61 T 16.774 V 19.969 0.0025\n",
      "62 T 16.812 V 19.978 0.0025\n",
      "63 T 16.687 V 20.084 0.00125\n",
      "64 T 16.836 V 20.117 0.00125\n",
      "65 T 16.438 V 20.182 0.00125\n",
      "66 T 16.828 V 20.005 0.00125\n",
      "67 T 16.452 V 19.995 0.00125\n",
      "68 T 16.649 V 20.196 0.00125\n",
      "69 T 16.768 V 20.067 0.000625\n",
      "70 T 16.449 V 19.963 0.000625\n",
      "71 T 16.621 V 20.047 0.000625\n",
      "72 T 16.431 V 20.161 0.000625\n",
      "73 T 16.583 V 20.077 0.000625\n",
      "74 T 16.605 V 20.095 0.000625\n",
      "75 T 16.618 V 19.974 0.0003125\n",
      "76 T 16.456 V 20.046 0.0003125\n",
      "77 T 16.490 V 20.009 0.0003125\n",
      "78 T 16.551 V 20.063 0.0003125\n",
      "79 T 16.342 V 20.008 0.0003125\n",
      "57 19.9250811735789\n"
     ]
    }
   ],
   "source": [
    "best_Loss_regression=np.inf\n",
    "for iter in range(num_epoch):\n",
    "    for dataloader, phase in zip([train_dataloader, val_dataloader], [\"T\", \"V\"]):\n",
    "        eposh_loss=0\n",
    "        if phase == \"T\": net.train()\n",
    "        if phase == \"V\": net.eval()\n",
    "        for [data] in dataloader:\n",
    "            optimizer.zero_grad()\n",
    "            with torch.set_grad_enabled(phase == \"T\"):\n",
    "                total_loss = torch.tensor([0.0], requires_grad=phase == \"T\").to(device)\n",
    "                h0 = torch.zeros(num_level,  hide_neuron,device=device,requires_grad=True)\n",
    "                c0 = torch.zeros(num_level, hide_neuron,device=device,requires_grad=True)\n",
    "                for i in range(data.shape[1]-depth_batch):\n",
    "                    input_batch, target=micro_batch(data,i,depth_batch,var_size)\n",
    "                    output, (h0, c0) = net(input_batch.to(device), (h0, c0))\n",
    "                    target = target.long().to(device)\n",
    "                    loss=Loss(output,target)\n",
    "                    total_loss=total_loss+loss\n",
    "                if phase == 'T':\n",
    "                    # Вычислить градиенты\n",
    "                    total_loss.backward()\n",
    "                    # Обновить веса\n",
    "                    optimizer.step()\n",
    "                eposh_loss+=total_loss.item()\n",
    "        if phase == \"T\": \n",
    "            print(f\"{iter} {phase} {eposh_loss / len(dataloader):0.3f}\", end=\" \")\n",
    "        else:\n",
    "            scheduler.step(eposh_loss)\n",
    "            print(f\"{phase} {eposh_loss / len(dataloader):0.3f} {optimizer.param_groups[0]['lr']}\")\n",
    "            if eposh_loss < best_Loss_regression:\n",
    "                best_model_wts = net.state_dict()\n",
    "                best_model_ind = iter\n",
    "                best_Loss_regression = eposh_loss\n",
    "net.load_state_dict(best_model_wts)\n",
    "torch.save(best_model_wts, 'model_lstm.tar')\n",
    "print(best_model_ind, best_Loss_regression / len(val_dataloader))"
   ]
  },
  {
   "cell_type": "code",
   "execution_count": 12,
   "metadata": {},
   "outputs": [
    {
     "name": "stderr",
     "output_type": "stream",
     "text": [
      "/tmp/ipykernel_30793/3158143806.py:20: UserWarning: Creating a tensor from a list of numpy.ndarrays is extremely slow. Please consider converting the list to a single numpy.ndarray with numpy.array() before converting to a tensor. (Triggered internally at ../torch/csrc/utils/tensor_new.cpp:230.)\n",
      "  inpyt = torch.tensor([buf]).to(device)\n"
     ]
    },
    {
     "name": "stdout",
     "output_type": "stream",
     "text": [
      "Acc top 1 tensor(0.1990, device='cuda:0')\n",
      "Acc top 3 0.4018213772168078\n",
      "Acc top 5 0.5301965170154976\n",
      "Acc top 10 0.6914043776961176\n",
      "Acc top 50 0.9174788304841028\n",
      "Acc top 500 0.9906534590190126\n"
     ]
    }
   ],
   "source": [
    "n = 0\n",
    "trye = 0\n",
    "trye_3 = 0\n",
    "trye_5 = 0\n",
    "trye_10 = 0\n",
    "trye_50 = 0\n",
    "trye_500 = 0\n",
    "data_test = pd.read_csv(annotation_val)\n",
    "net.eval()\n",
    "for d in data_test['name_id'].values:\n",
    "    mas = literal_eval(d)\n",
    "    h0 = torch.zeros(num_level,  hide_neuron,device=device,)\n",
    "    c0 = torch.zeros(num_level, hide_neuron,device=device,)\n",
    "    label=mas[-1]\n",
    "    input_v=mas[:-1]\n",
    "    \n",
    "    for i, m in enumerate(input_v):\n",
    "        buf = np.zeros((var_size),dtype = np.float32)\n",
    "        buf[m] +=1\n",
    "        inpyt = torch.tensor([buf]).to(device)\n",
    "        with torch.set_grad_enabled(False):\n",
    "            out, (h0, c0) = net(inpyt, (h0, c0))\n",
    "    trye += label == out.argmax()\n",
    "    trye_3 += label in out.argsort(descending=True)[0][:3]\n",
    "    trye_5 += label in out.argsort(descending=True)[0][:5]\n",
    "    trye_10 += label in out.argsort(descending=True)[0][:10]\n",
    "    trye_50 += label in out.argsort(descending=True)[0][:50]\n",
    "    trye_500 += label in out.argsort(descending=True)[0][:500]\n",
    "    n+=1\n",
    "print('Acc top 1', trye / n)\n",
    "print('Acc top 3',trye_3 / n)\n",
    "print('Acc top 5',trye_5 / n)\n",
    "print('Acc top 10',trye_10 / n)\n",
    "print('Acc top 50',trye_50 / n)\n",
    "print('Acc top 500',trye_500 / n)"
   ]
  },
  {
   "cell_type": "code",
   "execution_count": 13,
   "metadata": {},
   "outputs": [
    {
     "name": "stdout",
     "output_type": "stream",
     "text": [
      "Acc top 1 tensor(0.1002, device='cuda:0')\n",
      "Acc top 3 0.22203007750980452\n",
      "Acc top 5 0.30942161010406694\n",
      "Acc top 10 0.46261927554581106\n",
      "Acc top 50 0.8037550566655344\n",
      "Acc top 500 0.9542043664885896\n"
     ]
    }
   ],
   "source": [
    "n = 0\n",
    "trye = 0\n",
    "trye_3 = 0\n",
    "trye_5 = 0\n",
    "trye_10 = 0\n",
    "trye_50 = 0\n",
    "trye_500 = 0\n",
    "data_test = pd.read_csv(annotation_val)\n",
    "net.eval()\n",
    "for d in data_test['name_id'].values:\n",
    "    mas = literal_eval(d)\n",
    "    for i, m in enumerate(mas):\n",
    "        h0 = torch.zeros(num_level,  hide_neuron,device=device,)\n",
    "        c0 = torch.zeros(num_level,  hide_neuron,device=device,)\n",
    "        label=m\n",
    "        input_v=mas[:i]+mas[i+1:]\n",
    "        for r in input_v:\n",
    "            buf = np.zeros((var_size),dtype = np.float32)\n",
    "            buf[r] +=1\n",
    "            inpyt = torch.tensor([buf]).to(device)\n",
    "            with torch.set_grad_enabled(False):\n",
    "                out, (h0, c0) = net(inpyt, (h0, c0))\n",
    "        trye += label == out.argmax()\n",
    "        trye_3 += label in out.argsort(descending=True)[0][:3]\n",
    "        trye_5 += label in out.argsort(descending=True)[0][:5]\n",
    "        trye_10 += label in out.argsort(descending=True)[0][:10]\n",
    "        trye_50 += label in out.argsort(descending=True)[0][:50]\n",
    "        trye_500 += label in out.argsort(descending=True)[0][:500]\n",
    "        n+=1\n",
    "print('Acc top 1', trye / n)\n",
    "print('Acc top 3',trye_3 / n)\n",
    "print('Acc top 5',trye_5 / n)\n",
    "print('Acc top 10',trye_10 / n)\n",
    "print('Acc top 50',trye_50 / n)\n",
    "print('Acc top 500',trye_500 / n)"
   ]
  },
  {
   "cell_type": "code",
   "execution_count": 14,
   "metadata": {},
   "outputs": [],
   "source": [
    "save_name = \"/workspace/prj/study/buy_with_this_product/res_LSTM/\"+ 'LSTM_ACC top1-' + str(round(int(trye / n),4)) + '.tar'\n",
    "torch.save({\n",
    "            'state_dict': net.state_dict(),\n",
    "            }, save_name)"
   ]
  }
 ],
 "metadata": {
  "kernelspec": {
   "display_name": "base",
   "language": "python",
   "name": "python3"
  },
  "language_info": {
   "codemirror_mode": {
    "name": "ipython",
    "version": 3
   },
   "file_extension": ".py",
   "mimetype": "text/x-python",
   "name": "python",
   "nbconvert_exporter": "python",
   "pygments_lexer": "ipython3",
   "version": "3.8.10"
  }
 },
 "nbformat": 4,
 "nbformat_minor": 2
}
