{
 "cells": [
  {
   "cell_type": "code",
   "execution_count": 1,
   "metadata": {},
   "outputs": [],
   "source": [
    "from collections import Counter\n",
    "import torch.nn as nn\n",
    "import torch.optim as optim\n",
    "import torch\n",
    "import torch.nn as nn\n",
    "import torch.nn.functional as F\n",
    "import numpy as np"
   ]
  },
  {
   "cell_type": "code",
   "execution_count": 90,
   "metadata": {},
   "outputs": [],
   "source": [
    "class MyLSTM(nn.Module):\n",
    "    def __init__(self, output_size, hidden_size, n_layers=1):\n",
    "        super(MyLSTM, self).__init__()\n",
    "        self.output_size = output_size\n",
    "        self.hidden_size = hidden_size\n",
    "        self.input_size = input_size\n",
    "        self.n_layers = n_layers\n",
    "        self.LSTM = nn.LSTM(self.output_size, self.hidden_size, self.n_layers)\n",
    "        self.dropout = nn.Dropout(0.2)\n",
    "        self.fc = nn.Linear(self.hidden_size, self.output_size)\n",
    "        self.Softmax = nn.Softmax(1)\n",
    "    def forward(self,x,hidden):\n",
    "        out, (h, c)  = self.LSTM(x,hidden)\n",
    "        out = self.dropout(out)\n",
    "        x = self.fc(out)\n",
    "        x = self.Softmax(self.fc(out))\n",
    "        return x, (h, c)"
   ]
  },
  {
   "cell_type": "code",
   "execution_count": 91,
   "metadata": {},
   "outputs": [],
   "source": [
    "lr=0.0001\n",
    "LSTM=MyLSTM(1603,32,input_size=1)\n",
    "Loss = nn.CrossEntropyLoss()\n",
    "optimizer = optim.AdamW(LSTM.parameters(), lr=lr)\n"
   ]
  },
  {
   "cell_type": "code",
   "execution_count": 125,
   "metadata": {},
   "outputs": [],
   "source": [
    "def micro_batch(input,index,input_size,output_size):\n",
    "    sting=input[:,index:index+input_size]\n",
    "    label_ind=input[:,index+input_size:index+input_size+1]\n",
    "    label_ind=label_ind.type(torch.int8)\n",
    "    label=np.zeros([input.shape[0],output_size])\n",
    "    for i in range(input.shape[0]):\n",
    "        label[i][label_ind[i][0]]+=1\n",
    "    label=torch.Tensor(label)\n",
    "    return sting, label\n",
    "    "
   ]
  },
  {
   "cell_type": "code",
   "execution_count": null,
   "metadata": {},
   "outputs": [],
   "source": [
    "input = torch.Tensor([[46,12,95,78],[46,59,41,13]])\n",
    "# input = torch.Tensor([[46,12],[46,59]])\n",
    "for i in range(1000):\n",
    "    h0 = torch.randn(1,  32)\n",
    "    c0 = torch.randn(1,  32)\n",
    "    optimizer.zero_grad()\n",
    "    total_loss = torch.tensor([0.0], requires_grad=True)\n",
    "    for i in range(input.shape[1]-2):\n",
    "        sting, label=micro_batch(input,i,1,1603)\n",
    "        output, (h0, c0) = LSTM(sting, (h0, c0)) \n",
    "        total_loss=total_loss+Loss(output,label)\n",
    "    total_loss.backward()\n",
    "    # Обновить веса\n",
    "    optimizer.step()\n",
    "    print(total_loss)"
   ]
  }
 ],
 "metadata": {
  "kernelspec": {
   "display_name": "base",
   "language": "python",
   "name": "python3"
  },
  "language_info": {
   "codemirror_mode": {
    "name": "ipython",
    "version": 3
   },
   "file_extension": ".py",
   "mimetype": "text/x-python",
   "name": "python",
   "nbconvert_exporter": "python",
   "pygments_lexer": "ipython3",
   "version": "3.11.5"
  }
 },
 "nbformat": 4,
 "nbformat_minor": 2
}
