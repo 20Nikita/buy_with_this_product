{
 "cells": [
  {
   "cell_type": "code",
   "execution_count": 1,
   "metadata": {},
   "outputs": [],
   "source": [
    "import pandas as pd\n",
    "import os\n",
    "import numpy as np\n",
    "from ast import literal_eval"
   ]
  },
  {
   "cell_type": "markdown",
   "metadata": {},
   "source": [
    "# Таблица совместных покупок"
   ]
  },
  {
   "cell_type": "code",
   "execution_count": 2,
   "metadata": {},
   "outputs": [],
   "source": [
    "root_data_dir = 'data'\n",
    "magaz = 'data_se'\n",
    "def get_para(mas):\n",
    "    rezalt = []\n",
    "    for i, m in enumerate(mas):\n",
    "        for j in mas[i+1:]:\n",
    "            rezalt.append([m, j])\n",
    "    return rezalt\n",
    "\n",
    "stat = np.zeros((1370,1370))\n",
    "data_train = pd.read_csv(os.path.join(root_data_dir, magaz, 'data_train.txt'))\n",
    "for d in data_train['name_id'].values:\n",
    "    mas = literal_eval(d)\n",
    "    for a, b in get_para(mas):\n",
    "        stat[a][b] +=1"
   ]
  },
  {
   "cell_type": "markdown",
   "metadata": {},
   "source": [
    "## Удаляем 1 элемент из корзины (учитываются все варианты удаления), суммируем статистику покупаемых вместе элементов по оставшейся корзине, ищем топ N и если в нем есть удаленный элемент - мы справились.\n"
   ]
  },
  {
   "cell_type": "code",
   "execution_count": 3,
   "metadata": {},
   "outputs": [
    {
     "name": "stdout",
     "output_type": "stream",
     "text": [
      "Acc top 1 0.11895130160886885\n",
      "Acc top 3 0.26430534539727635\n",
      "Acc top 5 0.35571133001883704\n",
      "Acc top 10 0.5168452583145478\n",
      "Acc top 50 0.7647839916005311\n"
     ]
    }
   ],
   "source": [
    "n = 0\n",
    "trye = 0\n",
    "trye_3 = 0\n",
    "trye_5 = 0\n",
    "trye_10 = 0\n",
    "trye_50 = 0\n",
    "data_test = pd.read_csv(os.path.join(root_data_dir, magaz, 'data_test.txt'))\n",
    "for d in data_test['name_id'].values:\n",
    "    mas = literal_eval(d)\n",
    "    for i, m in enumerate(mas):\n",
    "        buf = np.zeros((1370))\n",
    "        for el in [*mas[:i],*mas[i+1:]]:\n",
    "            buf +=stat[el]\n",
    "        trye += mas[i] == buf.argmax()\n",
    "        trye_3 += mas[i] in buf.argsort()[-3:][::-1]\n",
    "        trye_5 += mas[i] in buf.argsort()[-5:][::-1]\n",
    "        trye_10 += mas[i] in buf.argsort()[-10:][::-1]\n",
    "        trye_50 += mas[i] in buf.argsort()[-50:][::-1]\n",
    "        n+=1\n",
    "print('Acc top 1', trye / n)\n",
    "print('Acc top 3',trye_3 / n)\n",
    "print('Acc top 5',trye_5 / n)\n",
    "print('Acc top 10',trye_10 / n)\n",
    "print('Acc top 50',trye_50 / n)"
   ]
  }
 ],
 "metadata": {
  "kernelspec": {
   "display_name": "Python 3",
   "language": "python",
   "name": "python3"
  },
  "language_info": {
   "codemirror_mode": {
    "name": "ipython",
    "version": 3
   },
   "file_extension": ".py",
   "mimetype": "text/x-python",
   "name": "python",
   "nbconvert_exporter": "python",
   "pygments_lexer": "ipython3",
   "version": "3.9.13"
  }
 },
 "nbformat": 4,
 "nbformat_minor": 2
}
